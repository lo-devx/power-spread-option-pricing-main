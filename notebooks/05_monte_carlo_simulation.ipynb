{
 "cells": [
  {
   "cell_type": "markdown",
   "metadata": {},
   "source": [
    "## Monte Carlo Simulation\n",
    "\n",
    "- Doesnt rely on assumptions, we simulate many random future paths of UK and FR prices and average the payoff.\n",
    "- Kirk is good as an analytical formula but traders will often run Monte Carlo to validate it. If Kirk and MC match closely this gives us confidence in the pricing. If they diverge, something in the assumptions or inputs is off.\n",
    "- Easier to boly on real-word contraints later like capacity limits, outages and transaction costs.\n",
    "\n",
    "Summary:\n",
    "- Kirk is a textbook formula, Monte Carlo is the traders sandbox that allows us to experiment with market realities."
   ]
  },
  {
   "cell_type": "code",
   "execution_count": 1,
   "metadata": {},
   "outputs": [],
   "source": [
    "import numpy as np\n",
    "import pandas as pd\n",
    "from scipy.stats import norm\n",
    "import sys\n",
    "import os\n",
    "sys.path.append(os.path.abspath(\"/Users/Lyndon.Odia/Desktop/lo-devx/power-spread-option-pricing-main\"))\n",
    "from config import raw_data_dir, processed_data_dir, API_KEY, FR_DOMAIN, START_DATE, END_DATE, FX_GBP_EUR"
   ]
  },
  {
   "cell_type": "code",
   "execution_count": 2,
   "metadata": {},
   "outputs": [],
   "source": [
    "# Load merged hourly dataset \n",
    "data_path = os.path.join(processed_data_dir, \"UK_FR_day_ahead_hourly_merged_spread.csv\")\n",
    "df = pd.read_csv(data_path, parse_dates=[\"datetime\"])"
   ]
  },
  {
   "cell_type": "code",
   "execution_count": 3,
   "metadata": {},
   "outputs": [],
   "source": [
    "# Ensure sorted and clean\n",
    "df = df.sort_values(\"datetime\").reset_index(drop=True)"
   ]
  },
  {
   "cell_type": "code",
   "execution_count": 4,
   "metadata": {},
   "outputs": [],
   "source": [
    "S1 = df[\"UK_price_eur\"].mean()  # Mean UK price in EUR/MWh\n",
    "S2 = df[\"FR_price\"].mean()      # Mean FR price in EUR/MWh\n",
    "\n",
    "# From return-based volatilities (already annualised in your EDA)\n",
    "sigma1 = 16.08 / S1 #EUR/MWh\n",
    "sigma2 = 68.60 / S2 #EUR/MWh\n",
    "rho = 0.142   # Pearson correlation from returns"
   ]
  },
  {
   "cell_type": "code",
   "execution_count": 5,
   "metadata": {},
   "outputs": [],
   "source": [
    "K = 0 # Strike price (capacity cost) in EUR/MWh - realistically this should be > 0 factoring in the actual cost to acqure interconnector rights\n",
    "T = 1/12     # 1 month to expiry"
   ]
  },
  {
   "cell_type": "code",
   "execution_count": 6,
   "metadata": {},
   "outputs": [],
   "source": [
    "n_sims = 100000 # Number of random variables\n",
    "np.random.seed(seed=44) # seed for random number generation"
   ]
  },
  {
   "cell_type": "markdown",
   "metadata": {},
   "source": [
    "Source: [Black-Scholes numerical methods notebook](https://github.com/cantaro86/Financial-Models-Numerical-Methods/blob/master/1.1%20Black-Scholes%20numerical%20methods.ipynb)\n",
    "\n",
    "In reality, monthly transmission rights (UK-FR, or any interconnector) are typically exercisable hourly or daily as the holder decides each period whether to flow power. This means the true product payoff is the sum of many intraday spread realisations , not a single terminal payoff.\n",
    "\n",
    "For traceability in this case study, we model the transmission right as a European spread option expiring at the end of the tenor (e.g. 1 month)\n",
    "\n",
    "- This simplification aligns with Kirk's closed-form formula\n",
    "- It allows us to compare kirk vs Monte Carlo cleanly.\n",
    "- It still captures the optional value of spreads between the two markets.\n",
    "\n",
    "\n",
    "(This is a common abstraction in academic and practitioner modelling: simplify to European style for intuition and benchmarking, while acknowledging that the true optionality is path-dependent)\n",
    "\n",
    "## Summary:\n",
    "• In reality - monthly transmission rights are exercised hour by hour (or day by day). Each period, the holder decides whether to flow power. The total value is the sum of all those hourly payoffs.\n",
    "• In our simplified model - Treat the product as a European spread option with a single expiry at month end. This makes it much easier to price and lets us compare directly with Kirk’s formula.\n",
    "\n",
    "## Impact on models:\n",
    "• Kirk’s Approximation only works for one expiry payoff, not hourly decisions.\n",
    "• Monte Carlo can handle both: in our case we use a 1-step GBM version (just expiry), but in reality you’d need a multi-step simulation to capture daily/hourly exercise."
   ]
  },
  {
   "cell_type": "code",
   "execution_count": 7,
   "metadata": {},
   "outputs": [],
   "source": [
    "# Monte Carlo Simulation\n",
    "# Generate correlated standard normals\n",
    "Z1 = np.random.randn(n_sims)\n",
    "Zt = np.random.randn(n_sims)\n",
    "Z2 = rho * Z1 + np.sqrt(1 - rho**2) * Zt\n",
    "\n",
    "# Simulate terminal forwards (1-step Goemetric Brownian Motion) - The simulated / realised forward at expiry of the option (time T)\n",
    "F1_T = S1 * np.exp(-0.5*sigma1**2*T + sigma1*np.sqrt(T)*Z1)\n",
    "F2_T = S2 * np.exp(-0.5*sigma2**2*T + sigma2*np.sqrt(T)*Z2)\n",
    "\n",
    "# Option payoff\n",
    "payoffs = np.maximum(F1_T - F2_T - K, 0.0)\n",
    "C_mc = payoffs.mean()"
   ]
  },
  {
   "cell_type": "code",
   "execution_count": 8,
   "metadata": {},
   "outputs": [
    {
     "name": "stdout",
     "output_type": "stream",
     "text": [
      "Monte Carlo Spread Option Value (1M): 16.58 EUR/MWh\n"
     ]
    }
   ],
   "source": [
    "print(f\"Monte Carlo Spread Option Value (1M): {C_mc:.2f} EUR/MWh\")"
   ]
  },
  {
   "cell_type": "markdown",
   "metadata": {},
   "source": [
    "### Conclusion:\n",
    "Monte Carlo simulation of 100,000 paths gives a 1 month UK–FR spread option value of €16.58/MWh, in line with Kirk’s Approximation (€16.59/MWh).\n",
    "\n",
    "The close agreement validates our volatility, correlation, and expiry inputs, and shows that both analytical and numerical approaches converge on the same fair value.\n",
    "For a 1 GW interconnector over a month (720 hours), this equates to a notional value of ~€11.95 million.\n",
    "\n",
    "### Interpretation of Kirk & Monte Carlo Results\n",
    "- Raw market data: UK mean = ~€81.10/MWh, FR mean = ~€68.06/MWh\n",
    "- Average spread ≈ €13.04/MWh\n",
    "\n",
    "### View:\n",
    "- If you always flowed in one direction, we’d expect => €13.04/MWh ≈ €9.36m/month for 1 GW.\n",
    "- But this ignores volatility and the ability to choose direction each hour.\n",
    "\n",
    "### Optionality view (Kirk & Monte Carlo):\n",
    "- Kirk ≈ €16.58/MWh\n",
    "- Monte Carlo ≈ €16.59/MWh\n",
    "- Both methods converge, validating inputs and model.\n",
    "- Scaling: 1 GW × 720 hours × €16.6/MWh = €11.95m/month.\n",
    "\n",
    "### Why value > average spread:\n",
    "- Capacity is an option: you only flow when profitable, never when it’s negative.\n",
    "- Volatility + low correlation make optionality more valuable than the mean spread.\n",
    "\n",
    "## Why traders pay this:\n",
    "- €11.95m/month is the fair value, a benchmark and not a guaranteed profit.\n",
    "- Traders pay because capacity is scarce and strategic.\n",
    "- Edge comes from views (higher volatility, diverging markets, policy shifts).\n",
    "- If realised spreads are wilder than history, the true value can be well above €16.6/MWh.\n",
    "\n",
    "\n",
    "**Summary**: The raw directional spread implied €9.36m/month, while the option value is €11.95m/month due to volatility and correlation effects. Traders pay this premium because interconnector capacity is scarce and provides optionality - the ability to monetise hourly market divergence above fair value.”"
   ]
  }
 ],
 "metadata": {
  "kernelspec": {
   "display_name": "Python 3",
   "language": "python",
   "name": "python3"
  },
  "language_info": {
   "codemirror_mode": {
    "name": "ipython",
    "version": 3
   },
   "file_extension": ".py",
   "mimetype": "text/x-python",
   "name": "python",
   "nbconvert_exporter": "python",
   "pygments_lexer": "ipython3",
   "version": "3.12.0"
  }
 },
 "nbformat": 4,
 "nbformat_minor": 2
}
