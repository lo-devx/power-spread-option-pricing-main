{
 "cells": [
  {
   "cell_type": "code",
   "execution_count": 10,
   "metadata": {},
   "outputs": [
    {
     "name": "stdout",
     "output_type": "stream",
     "text": [
      "Requirement already satisfied: scipy in /Library/Frameworks/Python.framework/Versions/3.12/lib/python3.12/site-packages (1.16.1)\n",
      "Requirement already satisfied: numpy<2.6,>=1.25.2 in /Library/Frameworks/Python.framework/Versions/3.12/lib/python3.12/site-packages (from scipy) (2.3.2)\n",
      "\n",
      "\u001b[1m[\u001b[0m\u001b[34;49mnotice\u001b[0m\u001b[1;39;49m]\u001b[0m\u001b[39;49m A new release of pip is available: \u001b[0m\u001b[31;49m23.2.1\u001b[0m\u001b[39;49m -> \u001b[0m\u001b[32;49m25.2\u001b[0m\n",
      "\u001b[1m[\u001b[0m\u001b[34;49mnotice\u001b[0m\u001b[1;39;49m]\u001b[0m\u001b[39;49m To update, run: \u001b[0m\u001b[32;49mpython3.12 -m pip install --upgrade pip\u001b[0m\n",
      "Note: you may need to restart the kernel to use updated packages.\n"
     ]
    }
   ],
   "source": [
    "pip install scipy"
   ]
  },
  {
   "cell_type": "markdown",
   "metadata": {},
   "source": [
    "## Context\n",
    "\n",
    "Kirk's approximation is an analytical formula for valuing a call option on a spread between two assets (in this case: UK & FR day-ahead prices). In our context:\n",
    "- S_1 = UK Forward Price\n",
    "- S_2 = FR Forward Price\n",
    "- Sigma_1, Sigma_2 = volatilities of UK and FR\n",
    "- p (rho) = correlation between them\n",
    "- K = strike price (capacity cost, often 0 in our case)\n",
    "- T = time to expiry in years\n",
    "\n",
    "A key benefit is that Kirk's analytical approximation avoids the computational cost of Monte Carlo simulation while providing accurate spread option values\n",
    "\n",
    "The output will be EUR per MWh option value, which you can then multiply by capacity to get a notional market value for transmission rights.\n"
   ]
  },
  {
   "cell_type": "code",
   "execution_count": 11,
   "metadata": {},
   "outputs": [],
   "source": [
    "import numpy as np\n",
    "import pandas as pd\n",
    "from scipy.stats import norm\n",
    "import sys\n",
    "import os\n",
    "sys.path.append(os.path.abspath(\"/Users/Lyndon.Odia/Desktop/lo-devx/power-spread-option-pricing-main\"))\n",
    "from config import raw_data_dir, processed_data_dir, API_KEY, FR_DOMAIN, START_DATE, END_DATE, FX_GBP_EUR"
   ]
  },
  {
   "cell_type": "code",
   "execution_count": 12,
   "metadata": {},
   "outputs": [],
   "source": [
    "# Load merged hourly dataset \n",
    "data_path = os.path.join(processed_data_dir, \"UK_FR_day_ahead_hourly_merged_spread.csv\")\n",
    "df = pd.read_csv(data_path, parse_dates=[\"datetime\"])"
   ]
  },
  {
   "cell_type": "code",
   "execution_count": 13,
   "metadata": {},
   "outputs": [],
   "source": [
    "# Ensure sorted and clean\n",
    "df = df.sort_values(\"datetime\").reset_index(drop=True)\n"
   ]
  },
  {
   "cell_type": "code",
   "execution_count": 14,
   "metadata": {},
   "outputs": [],
   "source": [
    "S1 = df[\"UK_price_eur\"].mean()  # Mean UK price in EUR/MWh\n",
    "S2 = df[\"FR_price\"].mean()      # Mean FR price in EUR/MWh\n",
    "\n",
    "# From return-based volatilities (already annualised in your EDA) - normalise \n",
    "sigma1 = 16.08 / S1 #EUR/MWh\n",
    "sigma2 = 68.60 / S2 #EUR/MWh\n",
    "rho = 0.142   # Pearson correlation from returns"
   ]
  },
  {
   "cell_type": "code",
   "execution_count": 15,
   "metadata": {},
   "outputs": [
    {
     "name": "stdout",
     "output_type": "stream",
     "text": [
      "81.10352334017234 68.06369511694707\n",
      "0.19826512262057577\n",
      "1.00787945588513\n",
      "0.142\n"
     ]
    }
   ],
   "source": [
    "print(S1, S2)\n",
    "print(sigma1)\n",
    "print(sigma2)\n",
    "print(rho)"
   ]
  },
  {
   "cell_type": "code",
   "execution_count": 16,
   "metadata": {},
   "outputs": [],
   "source": [
    "K = 0.76 # Strike price (capacity cost) in EUR/MWh\n",
    "T = 1/12     # 1 month to expiry"
   ]
  },
  {
   "cell_type": "code",
   "execution_count": 17,
   "metadata": {},
   "outputs": [],
   "source": [
    "# Kirk's Approximation (#source used: Kirk Formula and Modified Kirk Formula for Spread Option Pricing in Python - Statistics and Risk Modelling - YT)\n",
    "b = S2 / (S2 + K)\n",
    "sigma_k = np.sqrt(sigma1**2 - 2*b*rho*sigma1*sigma2 + (b**2)*(sigma2**2))\n",
    "d1 = (np.log(S1 / (S2 + K)) + 0.5 * sigma_k**2 * T) / (sigma_k * np.sqrt(T))\n",
    "d2 = d1 - sigma_k * np.sqrt(T)\n",
    "C = S1 * norm.cdf(d1) - (S2 + K) * norm.cdf(d2) #Where N - (norm.cdf) is the standard normal CDF, C is the price of the spread option"
   ]
  },
  {
   "cell_type": "code",
   "execution_count": 18,
   "metadata": {},
   "outputs": [
    {
     "name": "stdout",
     "output_type": "stream",
     "text": [
      "UK mean price (S1): 81.10 EUR/MWh\n",
      "FR mean price (S2): 68.06 EUR/MWh\n",
      "UK vol (annualised): 0.20\n",
      "FR vol (annualised): 1.01\n",
      "Correlation: 0.142\n",
      "Spread Option Value (1M, Kirk's): 16.00 EUR/MWh\n"
     ]
    }
   ],
   "source": [
    "print(f\"UK mean price (S1): {S1:.2f} EUR/MWh\")\n",
    "print(f\"FR mean price (S2): {S2:.2f} EUR/MWh\")\n",
    "print(f\"UK vol (annualised): {sigma1:.2f}\")\n",
    "print(f\"FR vol (annualised): {sigma2:.2f}\")\n",
    "print(f\"Correlation: {rho:.3f}\")\n",
    "print(f\"Spread Option Value (1M, Kirk's): {C:.2f} EUR/MWh\")"
   ]
  },
  {
   "cell_type": "markdown",
   "metadata": {},
   "source": [
    "### Notes & Intepretations\n",
    "**Volatility units**:\n",
    "The annualised volatilities (sigma_1 and sigma_2) are dimensionless hence they represent % variability per year, not a price level. For example, sigma_1 = 0.2 means the UK power price flunctuates 20% per year around its mean level of 81 EUR/MWh\n",
    "\n",
    "**Why divide S1 and S2**:\n",
    "kIRK'S formula requires relative volatility, so the sigma values used in the pricing equation are scaled by the mean prices (sigma / S). This converts absolute volatility (EUR/MWh) into proportional volatility, consistent with the lognormal assumption of the model.\n",
    "\n",
    "**Correlation (rho - 0.142)**:\n",
    "Indicates weak positive co-movement between UK and FR day-ahead prices - spread optionality remains valuable because prices often move independently.\n",
    "\n",
    "**Capacity Cost (K)**:\n",
    "The average auction clearing price for transmission capacity from GB - > FR (IFA2) between Jan–Jul 2025 was approximately €0.76/MWh, based on publicly available data from the Joint Allocation Office (JAO) monthly explicit auctions. This represents the cost paid by market participants to secure physical transmission rights over that interconnector, and serves as the strike price K in our spread option valuation.\n",
    "Source: https://www.jao.eu/auctions#/\n",
    "\n",
    "For illustration, the analysis uses the GB - > FR direction. In practice, interconnector capacity is auctioned separately for each direction, and both flows (FR → GB and GB → FR) have distinct prices reflecting directional congestion and market fundamentals\n",
    "\n",
    "**Interpretation of Result**:\n",
    "With a one-month expiry and a clearing price / capacity cost K = €0.76/MWh (based on the 2025 JAO monthly auction results for the IFA2 GB-FR border), the Kirk model gives a fair option value of €16.00/MWh.\n",
    "This can be interpreted as the implied premium per MWh of interconnector transmission capacity between the UK and France for that horizon\n",
    "\n",
    "**In Practice / Real world extension note**:\n",
    "In production, each delivery month would use its own JAO clearing price as the strike K_m, and re-estimate volatility, correlation, and means using that month’s data.\n",
    "For this case study, a single representative value (€0.76/MWh) is used to provide a clean and realistic benchmark."
   ]
  },
  {
   "cell_type": "markdown",
   "metadata": {},
   "source": []
  }
 ],
 "metadata": {
  "kernelspec": {
   "display_name": "Python 3",
   "language": "python",
   "name": "python3"
  },
  "language_info": {
   "codemirror_mode": {
    "name": "ipython",
    "version": 3
   },
   "file_extension": ".py",
   "mimetype": "text/x-python",
   "name": "python",
   "nbconvert_exporter": "python",
   "pygments_lexer": "ipython3",
   "version": "3.12.0"
  }
 },
 "nbformat": 4,
 "nbformat_minor": 2
}
