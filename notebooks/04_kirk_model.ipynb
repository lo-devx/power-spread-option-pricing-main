{
 "cells": [
  {
   "cell_type": "code",
   "execution_count": 53,
   "metadata": {},
   "outputs": [
    {
     "name": "stdout",
     "output_type": "stream",
     "text": [
      "Requirement already satisfied: scipy in /Library/Frameworks/Python.framework/Versions/3.12/lib/python3.12/site-packages (1.16.1)\n",
      "Requirement already satisfied: numpy<2.6,>=1.25.2 in /Library/Frameworks/Python.framework/Versions/3.12/lib/python3.12/site-packages (from scipy) (2.3.2)\n",
      "\n",
      "\u001b[1m[\u001b[0m\u001b[34;49mnotice\u001b[0m\u001b[1;39;49m]\u001b[0m\u001b[39;49m A new release of pip is available: \u001b[0m\u001b[31;49m23.2.1\u001b[0m\u001b[39;49m -> \u001b[0m\u001b[32;49m25.2\u001b[0m\n",
      "\u001b[1m[\u001b[0m\u001b[34;49mnotice\u001b[0m\u001b[1;39;49m]\u001b[0m\u001b[39;49m To update, run: \u001b[0m\u001b[32;49mpip3.12 install --upgrade pip\u001b[0m\n",
      "Note: you may need to restart the kernel to use updated packages.\n"
     ]
    }
   ],
   "source": [
    "pip install scipy"
   ]
  },
  {
   "cell_type": "markdown",
   "metadata": {},
   "source": [
    "## Context\n",
    "\n",
    "Kirk's approximation is an analytical formula for valuing a call option on a spread between two assets (in this case: UK & FR day-ahead prices). In our context:\n",
    "- S_1 = UK Forward Price\n",
    "- S_2 = FR Forward Price\n",
    "- Sigma_1, Sigma_2 = volatilities of UK and FR\n",
    "- p (rho) = correlation between them\n",
    "- K = strike price (capacity cost, often 0 in our case)\n",
    "- T = time to expiry in years\n",
    "\n",
    "A notable benefit is that it circumvents the computational overhead associated with Monte Carlo simulations.\n",
    "\n",
    "The output will be EUR per MWh option value, which you can then multiply by capacity to get a notional market value for transmission rights.\n"
   ]
  },
  {
   "cell_type": "code",
   "execution_count": 54,
   "metadata": {},
   "outputs": [],
   "source": [
    "import numpy as np\n",
    "import pandas as pd\n",
    "from scipy.stats import norm\n",
    "import sys\n",
    "import os\n",
    "sys.path.append(os.path.abspath(\"/Users/Lyndon.Odia/Desktop/lo-devx/power-spread-option-pricing-main\"))\n",
    "from config import raw_data_dir, processed_data_dir, API_KEY, FR_DOMAIN, START_DATE, END_DATE, FX_GBP_EUR"
   ]
  },
  {
   "cell_type": "code",
   "execution_count": 55,
   "metadata": {},
   "outputs": [],
   "source": [
    "# Load merged hourly dataset \n",
    "data_path = os.path.join(processed_data_dir, \"UK_FR_day_ahead_hourly_merged_spread.csv\")\n",
    "df = pd.read_csv(data_path, parse_dates=[\"datetime\"])"
   ]
  },
  {
   "cell_type": "code",
   "execution_count": 56,
   "metadata": {},
   "outputs": [],
   "source": [
    "# Ensure sorted and clean\n",
    "df = df.sort_values(\"datetime\").reset_index(drop=True)"
   ]
  },
  {
   "cell_type": "code",
   "execution_count": 57,
   "metadata": {},
   "outputs": [],
   "source": [
    "S1 = df[\"UK_price_eur\"].mean()  # Mean UK price in EUR/MWh\n",
    "S2 = df[\"FR_price\"].mean()      # Mean FR price in EUR/MWh"
   ]
  },
  {
   "cell_type": "code",
   "execution_count": 58,
   "metadata": {},
   "outputs": [
    {
     "name": "stdout",
     "output_type": "stream",
     "text": [
      "81.06465390621855 66.78122761118937\n"
     ]
    }
   ],
   "source": [
    "print(S1, S2)"
   ]
  },
  {
   "cell_type": "code",
   "execution_count": 59,
   "metadata": {},
   "outputs": [],
   "source": [
    "sigma1 = (df[\"UK_price_eur\"].std()) * np.sqrt(24*365)  # Annualised UK vol\n",
    "sigma2 = (df[\"FR_price\"].std()) * np.sqrt(24*365)      # Annualised FR vol\n",
    "rho = df[[\"UK_price_eur\", \"FR_price\"]].corr().iloc[0,1]  # Correlation"
   ]
  },
  {
   "cell_type": "code",
   "execution_count": 60,
   "metadata": {},
   "outputs": [
    {
     "name": "stdout",
     "output_type": "stream",
     "text": [
      "1108.84343275542\n",
      "4825.700336267553\n",
      "0.16473526206326694\n"
     ]
    }
   ],
   "source": [
    "print(sigma1)\n",
    "print(sigma2)\n",
    "print(rho)"
   ]
  },
  {
   "cell_type": "markdown",
   "metadata": {},
   "source": [
    "Volatility is first measured on an hourly basis and then scaled using the √T rule, where T is the time horizon in hours.  \n",
    "Annualising (σ × √8760) is standard convention for option models, but you can also scale to shorter horizons (e.g. 1M, 6M) — the key is that variance grows with time while standard deviation grows with the square root of time. \n",
    "\n",
    "Usually don’t strictly need a 1Y (or 2Y) of history to compute these, but the estimate is more reliable when the data window matches or exceeds the horizon since shorter samples can be regime specific and noisier."
   ]
  },
  {
   "cell_type": "code",
   "execution_count": 61,
   "metadata": {},
   "outputs": [],
   "source": [
    "K = 0 # Strike price (capacity cost) in EUR/MWh\n",
    "T = 1/12     # 1 month to expiry"
   ]
  },
  {
   "cell_type": "code",
   "execution_count": 62,
   "metadata": {},
   "outputs": [],
   "source": [
    "# Kirk's Approximation (#source used: Kirk Formula and Modified Kirk Formula for Spread Option Pricing in Python - Statistics and Risk Modelling - YT)\n",
    "b = S2 / (S2 + K)\n",
    "sigma_k = np.sqrt(sigma1**2 - 2*b*rho*sigma1*sigma2 + (b**2)*(sigma2**2))\n",
    "d1 = (np.log(S1 / (S2 + K)) + 0.5 * sigma_k**2 * T) / (sigma_k * np.sqrt(T))\n",
    "d2 = d1 - sigma_k * np.sqrt(T)\n",
    "C = S1 * norm.cdf(d1) - (S2 + K) * norm.cdf(d2) #Where N - (norm.cdf) is the standard normal CDF, C is the price of the spread option."
   ]
  },
  {
   "cell_type": "code",
   "execution_count": 63,
   "metadata": {},
   "outputs": [
    {
     "name": "stdout",
     "output_type": "stream",
     "text": [
      "UK mean price (S1): 81.06 EUR/MWh\n",
      "FR mean price (S2): 66.78 EUR/MWh\n",
      "UK vol (annualised): 1108.84\n",
      "FR vol (annualised): 4825.70\n",
      "Correlation: 0.165\n",
      "Spread Option Value (1M, Kirk's): 81.06 EUR/MWh\n"
     ]
    }
   ],
   "source": [
    "print(f\"UK mean price (S1): {S1:.2f} EUR/MWh\")\n",
    "print(f\"FR mean price (S2): {S2:.2f} EUR/MWh\")\n",
    "print(f\"UK vol (annualised): {sigma1:.2f}\")\n",
    "print(f\"FR vol (annualised): {sigma2:.2f}\")\n",
    "print(f\"Correlation: {rho:.3f}\")\n",
    "print(f\"Spread Option Value (1M, Kirk's): {C:.2f} EUR/MWh\")"
   ]
  },
  {
   "cell_type": "markdown",
   "metadata": {},
   "source": [
    "## Conclusion\n",
    "- Given obeserved volatilities, correlation, and forward levels, Kirk's approximation values the right to move 1MWh between France and the UK for one month worth - 81 EUR/MWh, given observed spread dynamics\n",
    "Therefore eg., At 1 GW capacity over a month (=720 hours) => 10^9 * (24 *30) * 81 = 58.3 EUR for the month.\n",
    "\n",
    "- 81 EUR is the fair value (premium) of owning the right, but not the obligation, to exploit the UK-FR day-ahead spread for 1MWh of capacity over 1 month. (this is what the optional transmissiopn rights is worth for July 2025)\n",
    "\n",
    "- This reflects the optionalility to capture both positive and negative spread events, weighted by observed market behaviour.\n",
    "\n"
   ]
  }
 ],
 "metadata": {
  "kernelspec": {
   "display_name": "Python 3",
   "language": "python",
   "name": "python3"
  },
  "language_info": {
   "codemirror_mode": {
    "name": "ipython",
    "version": 3
   },
   "file_extension": ".py",
   "mimetype": "text/x-python",
   "name": "python",
   "nbconvert_exporter": "python",
   "pygments_lexer": "ipython3",
   "version": "3.12.0"
  }
 },
 "nbformat": 4,
 "nbformat_minor": 2
}
