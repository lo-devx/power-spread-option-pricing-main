{
 "cells": [
  {
   "cell_type": "markdown",
   "metadata": {},
   "source": [
    "# Case Study: Pricing Transmission Rights with Spread Options\n",
    "## Problem Statement\n",
    "In European power markets, electricity flows between countries through limited-capacity interconnectors. Market participants must bid to acquire these transmission rights. The economic value of those rights is often determined by the expected price spread between two markets.\n",
    "This project treats the transmission right as a European-style spread call option with strike = X, using:\n",
    "- Kirk’s analytical approximation\n",
    "- Monte Carlo simulation\n",
    "\n",
    "## Objectives\n",
    "- Download and clean power prices (e.g., UK vs France)\n",
    "- Estimate historical volatility and correlation\n",
    "- Implement pricing models using Python\n",
    "- Interpret sensitivity to volatility, correlation, and time to expiry\n",
    "- Document and visualize results clearly\n",
    "\n",
    "## Assumptions\n",
    "- Strike = X (capacity costs)\n",
    "- Option maturity set to one month (can be adjusted)\n",
    "- Historical volatility and correlation are proxies for expected risk\n",
    "\n",
    "## Next Steps\n",
    "- Collect and preprocess market price data\n",
    "- Conduct exploratory data analysis (EDA)\n",
    "- Implement pricing models and compare results\n",
    "- Summarize findings and produce visualizations"
   ]
  }
 ],
 "metadata": {
  "language_info": {
   "name": "python"
  }
 },
 "nbformat": 4,
 "nbformat_minor": 2
}
