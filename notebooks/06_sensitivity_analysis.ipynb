{
 "cells": [
  {
   "cell_type": "code",
   "execution_count": 10,
   "metadata": {},
   "outputs": [],
   "source": [
    "import numpy as np\n",
    "import pandas as pd\n",
    "import matplotlib.pyplot as plt\n",
    "from scipy.stats import norm\n",
    "import sys\n",
    "import os\n",
    "sys.path.append(os.path.abspath(\"/Users/Lyndon.Odia/Desktop/lo-devx/power-spread-option-pricing-main\"))\n",
    "from config import raw_data_dir, processed_data_dir, API_KEY, FR_DOMAIN, START_DATE, END_DATE, FX_GBP_EUR"
   ]
  },
  {
   "cell_type": "code",
   "execution_count": 11,
   "metadata": {},
   "outputs": [],
   "source": [
    "# Load merged hourly dataset \n",
    "data_path = os.path.join(processed_data_dir, \"UK_FR_day_ahead_hourly_merged_spread.csv\")\n",
    "df = pd.read_csv(data_path, parse_dates=[\"datetime\"])"
   ]
  },
  {
   "cell_type": "code",
   "execution_count": 12,
   "metadata": {},
   "outputs": [],
   "source": [
    "# Ensure sorted and clean\n",
    "df = df.sort_values(\"datetime\").reset_index(drop=True)"
   ]
  },
  {
   "cell_type": "code",
   "execution_count": 13,
   "metadata": {},
   "outputs": [],
   "source": [
    "S1 = df[\"UK_price_eur\"].mean()  # Mean UK price in EUR/MWh\n",
    "S2 = df[\"FR_price\"].mean()      # Mean FR price in EUR/MWh\n",
    "\n",
    "# From return-based volatilities (already annualised in your EDA)\n",
    "sigma1 = 16.08 / S1 #EUR/MWh\n",
    "sigma2 = 68.60 / S2 #EUR/MWh\n",
    "rho = 0.142   # Pearson correlation from returns"
   ]
  },
  {
   "cell_type": "code",
   "execution_count": 14,
   "metadata": {},
   "outputs": [],
   "source": [
    "K = 0.76 # Strike price (capacity cost) in EUR/MWh - realistically this should be > 0 factoring in the actual cost to acqure interconnector rights\n",
    "T = 1/12     # 1 month to expiry"
   ]
  },
  {
   "cell_type": "code",
   "execution_count": 15,
   "metadata": {},
   "outputs": [
    {
     "name": "stdout",
     "output_type": "stream",
     "text": [
      "Base inputs -> S1=81.10, S2=68.06, σ1=0.20, σ2=1.01, ρ=0.142, T=0.083, K=0.76\n",
      "Base Kirk price: 16.00 €/MWh  |  ~€11,680,264 for 1 GW over T\n"
     ]
    }
   ],
   "source": [
    "try:\n",
    "   S1, S2\n",
    "except NameError:\n",
    "   S1 = df[\"UK_price_eur\"].mean()\n",
    "   S2 = df[\"FR_price\"].mean()\n",
    "try:\n",
    "   sigma1, sigma2\n",
    "except NameError:\n",
    "   rets = np.log(df[[\"UK_price_eur\",\"FR_price\"]]).diff().dropna()\n",
    "   ann = np.sqrt(24*365)\n",
    "   sigma1 = rets[\"UK_price_eur\"].std() * ann\n",
    "   sigma2 = rets[\"FR_price\"].std() * ann\n",
    "try:\n",
    "   rho\n",
    "except NameError:\n",
    "   rho = np.log(df[\"UK_price_eur\"]).diff().corr(np.log(df[\"FR_price\"]).diff())\n",
    "try:\n",
    "   T\n",
    "except NameError:\n",
    "   T = 1/12\n",
    "try:\n",
    "   K\n",
    "except NameError:\n",
    "   K = 0.0\n",
    "def kirk(F1, F2, s1, s2, r, T, K=0.0):\n",
    "   b = F2 / (F2 + K)\n",
    "   sigk = np.sqrt(s1**2 - 2*b*r*s1*s2 + (b**2)*(s2**2))\n",
    "   d1 = (np.log(F1/(F2+K)) + 0.5*sigk**2*T) / (sigk*np.sqrt(T))\n",
    "   d2 = d1 - sigk*np.sqrt(T)\n",
    "   return F1*norm.cdf(d1) - (F2+K)*norm.cdf(d2)\n",
    "def scale_to_capacity(price_eur_per_mwh, mw=1000, T_years=T):\n",
    "   hours = 8760 * T_years\n",
    "   return price_eur_per_mwh * mw * hours  # € for the block over T\n",
    "print(f\"Base inputs -> S1={S1:.2f}, S2={S2:.2f}, σ1={sigma1:.2f}, σ2={sigma2:.2f}, ρ={rho:.3f}, T={T:.3f}, K={K:.2f}\")\n",
    "base_kirk = kirk(S1,S2,sigma1,sigma2,rho,T,K)\n",
    "print(f\"Base Kirk price: {base_kirk:.2f} €/MWh  |  ~€{scale_to_capacity(base_kirk, 1000):,.0f} for 1 GW over T\")"
   ]
  },
  {
   "cell_type": "markdown",
   "metadata": {},
   "source": [
    "## Correlation sweep (rho)"
   ]
  },
  {
   "cell_type": "code",
   "execution_count": 16,
   "metadata": {},
   "outputs": [
    {
     "data": {
      "application/vnd.microsoft.datawrangler.viewer.v0+json": {
       "columns": [
        {
         "name": "index",
         "rawType": "int64",
         "type": "integer"
        },
        {
         "name": "rho",
         "rawType": "float64",
         "type": "float"
        },
        {
         "name": "kirk_eur_mwh",
         "rawType": "float64",
         "type": "float"
        }
       ],
       "ref": "0f87bc4e-d3a2-4ac0-956e-591b24d0907b",
       "rows": [
        [
         "0",
         "0.0",
         "16.20330095432518"
        ],
        [
         "1",
         "0.1",
         "16.060800162025267"
        ],
        [
         "2",
         "0.2",
         "15.916315051143684"
        ],
        [
         "3",
         "0.30000000000000004",
         "15.769777526825443"
        ],
        [
         "4",
         "0.4",
         "15.621117595178774"
        ],
        [
         "5",
         "0.5",
         "15.470263857955281"
        ],
        [
         "6",
         "0.6000000000000001",
         "15.317144266779096"
        ],
        [
         "7",
         "0.7000000000000001",
         "15.161687245591516"
        ],
        [
         "8",
         "0.8",
         "15.003823338135334"
        ],
        [
         "9",
         "0.9",
         "14.843487609325877"
        ]
       ],
       "shape": {
        "columns": 2,
        "rows": 10
       }
      },
      "text/html": [
       "<div>\n",
       "<style scoped>\n",
       "    .dataframe tbody tr th:only-of-type {\n",
       "        vertical-align: middle;\n",
       "    }\n",
       "\n",
       "    .dataframe tbody tr th {\n",
       "        vertical-align: top;\n",
       "    }\n",
       "\n",
       "    .dataframe thead th {\n",
       "        text-align: right;\n",
       "    }\n",
       "</style>\n",
       "<table border=\"1\" class=\"dataframe\">\n",
       "  <thead>\n",
       "    <tr style=\"text-align: right;\">\n",
       "      <th></th>\n",
       "      <th>rho</th>\n",
       "      <th>kirk_eur_mwh</th>\n",
       "    </tr>\n",
       "  </thead>\n",
       "  <tbody>\n",
       "    <tr>\n",
       "      <th>0</th>\n",
       "      <td>0.0</td>\n",
       "      <td>16.203301</td>\n",
       "    </tr>\n",
       "    <tr>\n",
       "      <th>1</th>\n",
       "      <td>0.1</td>\n",
       "      <td>16.060800</td>\n",
       "    </tr>\n",
       "    <tr>\n",
       "      <th>2</th>\n",
       "      <td>0.2</td>\n",
       "      <td>15.916315</td>\n",
       "    </tr>\n",
       "    <tr>\n",
       "      <th>3</th>\n",
       "      <td>0.3</td>\n",
       "      <td>15.769778</td>\n",
       "    </tr>\n",
       "    <tr>\n",
       "      <th>4</th>\n",
       "      <td>0.4</td>\n",
       "      <td>15.621118</td>\n",
       "    </tr>\n",
       "    <tr>\n",
       "      <th>5</th>\n",
       "      <td>0.5</td>\n",
       "      <td>15.470264</td>\n",
       "    </tr>\n",
       "    <tr>\n",
       "      <th>6</th>\n",
       "      <td>0.6</td>\n",
       "      <td>15.317144</td>\n",
       "    </tr>\n",
       "    <tr>\n",
       "      <th>7</th>\n",
       "      <td>0.7</td>\n",
       "      <td>15.161687</td>\n",
       "    </tr>\n",
       "    <tr>\n",
       "      <th>8</th>\n",
       "      <td>0.8</td>\n",
       "      <td>15.003823</td>\n",
       "    </tr>\n",
       "    <tr>\n",
       "      <th>9</th>\n",
       "      <td>0.9</td>\n",
       "      <td>14.843488</td>\n",
       "    </tr>\n",
       "  </tbody>\n",
       "</table>\n",
       "</div>"
      ],
      "text/plain": [
       "   rho  kirk_eur_mwh\n",
       "0  0.0     16.203301\n",
       "1  0.1     16.060800\n",
       "2  0.2     15.916315\n",
       "3  0.3     15.769778\n",
       "4  0.4     15.621118\n",
       "5  0.5     15.470264\n",
       "6  0.6     15.317144\n",
       "7  0.7     15.161687\n",
       "8  0.8     15.003823\n",
       "9  0.9     14.843488"
      ]
     },
     "metadata": {},
     "output_type": "display_data"
    },
    {
     "data": {
      "image/png": "[encoded data removed]",
      "text/plain": [
       "<Figure size 640x480 with 1 Axes>"
      ]
     },
     "metadata": {},
     "output_type": "display_data"
    }
   ],
   "source": [
    "rhos = np.linspace(0.0, 0.9, 10)\n",
    "vals = [kirk(S1,S2,sigma1,sigma2,r,T,K) for r in rhos]\n",
    "corr_df = pd.DataFrame({\"rho\": rhos, \"kirk_eur_mwh\": vals})\n",
    "display(corr_df)\n",
    "plt.figure()\n",
    "plt.plot(corr_df[\"rho\"], corr_df[\"kirk_eur_mwh\"], marker=\"o\")\n",
    "plt.xlabel(\"Correlation (rho)\")\n",
    "plt.ylabel(\"Kirk price (€/MWh)\")\n",
    "plt.title(\"Sensitivity: Value vs Correlation\")\n",
    "plt.grid(True)\n",
    "plt.show()"
   ]
  },
  {
   "cell_type": "markdown",
   "metadata": {},
   "source": [
    "## Volatility Sweep"
   ]
  },
  {
   "cell_type": "code",
   "execution_count": 17,
   "metadata": {},
   "outputs": [
    {
     "data": {
      "application/vnd.microsoft.datawrangler.viewer.v0+json": {
       "columns": [
        {
         "name": "index",
         "rawType": "int64",
         "type": "integer"
        },
        {
         "name": "factor",
         "rawType": "float64",
         "type": "float"
        },
        {
         "name": "kirk_ukOnly",
         "rawType": "float64",
         "type": "float"
        },
        {
         "name": "kirk_frOnly",
         "rawType": "float64",
         "type": "float"
        },
        {
         "name": "kirk_both",
         "rawType": "float64",
         "type": "float"
        }
       ],
       "ref": "5a76a535-7957-4531-8004-3d2055187ae5",
       "rows": [
        [
         "0",
         "0.5",
         "15.995176868632122",
         "13.008803272416998",
         "12.939302200737124"
        ],
        [
         "1",
         "0.75",
         "15.988792630030098",
         "14.336591211248347",
         "14.307932201239353"
        ],
        [
         "2",
         "1.0",
         "16.000361983639813",
         "16.000361983639813",
         "16.000361983639813"
        ],
        [
         "3",
         "1.25",
         "16.029824873586733",
         "17.82463095151624",
         "17.83873623895679"
        ],
        [
         "4",
         "1.5",
         "16.077029278676157",
         "19.729176529672856",
         "19.747749538497345"
        ]
       ],
       "shape": {
        "columns": 4,
        "rows": 5
       }
      },
      "text/html": [
       "<div>\n",
       "<style scoped>\n",
       "    .dataframe tbody tr th:only-of-type {\n",
       "        vertical-align: middle;\n",
       "    }\n",
       "\n",
       "    .dataframe tbody tr th {\n",
       "        vertical-align: top;\n",
       "    }\n",
       "\n",
       "    .dataframe thead th {\n",
       "        text-align: right;\n",
       "    }\n",
       "</style>\n",
       "<table border=\"1\" class=\"dataframe\">\n",
       "  <thead>\n",
       "    <tr style=\"text-align: right;\">\n",
       "      <th></th>\n",
       "      <th>factor</th>\n",
       "      <th>kirk_ukOnly</th>\n",
       "      <th>kirk_frOnly</th>\n",
       "      <th>kirk_both</th>\n",
       "    </tr>\n",
       "  </thead>\n",
       "  <tbody>\n",
       "    <tr>\n",
       "      <th>0</th>\n",
       "      <td>0.50</td>\n",
       "      <td>15.995177</td>\n",
       "      <td>13.008803</td>\n",
       "      <td>12.939302</td>\n",
       "    </tr>\n",
       "    <tr>\n",
       "      <th>1</th>\n",
       "      <td>0.75</td>\n",
       "      <td>15.988793</td>\n",
       "      <td>14.336591</td>\n",
       "      <td>14.307932</td>\n",
       "    </tr>\n",
       "    <tr>\n",
       "      <th>2</th>\n",
       "      <td>1.00</td>\n",
       "      <td>16.000362</td>\n",
       "      <td>16.000362</td>\n",
       "      <td>16.000362</td>\n",
       "    </tr>\n",
       "    <tr>\n",
       "      <th>3</th>\n",
       "      <td>1.25</td>\n",
       "      <td>16.029825</td>\n",
       "      <td>17.824631</td>\n",
       "      <td>17.838736</td>\n",
       "    </tr>\n",
       "    <tr>\n",
       "      <th>4</th>\n",
       "      <td>1.50</td>\n",
       "      <td>16.077029</td>\n",
       "      <td>19.729177</td>\n",
       "      <td>19.747750</td>\n",
       "    </tr>\n",
       "  </tbody>\n",
       "</table>\n",
       "</div>"
      ],
      "text/plain": [
       "   factor  kirk_ukOnly  kirk_frOnly  kirk_both\n",
       "0    0.50    15.995177    13.008803  12.939302\n",
       "1    0.75    15.988793    14.336591  14.307932\n",
       "2    1.00    16.000362    16.000362  16.000362\n",
       "3    1.25    16.029825    17.824631  17.838736\n",
       "4    1.50    16.077029    19.729177  19.747750"
      ]
     },
     "metadata": {},
     "output_type": "display_data"
    },
    {
     "data": {
      "image/png": "[encoded data removed]",
      "text/plain": [
       "<Figure size 640x480 with 1 Axes>"
      ]
     },
     "metadata": {},
     "output_type": "display_data"
    }
   ],
   "source": [
    "factors = [0.5, 0.75, 1.0, 1.25, 1.5]\n",
    "\n",
    "# vary UK vol only (FR fixed)\n",
    "vals_uk = [kirk(S1,S2,sigma1*f, sigma2, rho, T, K) for f in factors]\n",
    "\n",
    "# vary FR vol only (UK fixed)\n",
    "vals_fr = [kirk(S1,S2,sigma1, sigma2*f, rho, T, K) for f in factors]\n",
    "\n",
    "# vary both vols together\n",
    "vals_both = [kirk(S1,S2,sigma1*f, sigma2*f, rho, T, K) for f in factors]\n",
    "vol_df = pd.DataFrame({\n",
    "   \"factor\": factors,\n",
    "   \"kirk_ukOnly\": vals_uk,\n",
    "   \"kirk_frOnly\": vals_fr,\n",
    "   \"kirk_both\": vals_both\n",
    "})\n",
    "display(vol_df)\n",
    "\n",
    "plt.figure()\n",
    "plt.plot(factors, vals_uk, marker=\"o\", label=\"σ_UK x factor\")\n",
    "plt.plot(factors, vals_fr, marker=\"o\", label=\"σ_FR x factor\")\n",
    "plt.plot(factors, vals_both, marker=\"o\", label=\"σ_UK & σ_FR x factor\")\n",
    "plt.xlabel(\"Volatility factor\")\n",
    "plt.ylabel(\"Kirk price (€/MWh)\")\n",
    "plt.title(\"Sensitivity: Value vs Volatility\")\n",
    "plt.legend()\n",
    "plt.grid(True)\n",
    "plt.show()"
   ]
  },
  {
   "cell_type": "markdown",
   "metadata": {},
   "source": [
    "## Time-to-Expiry Sweep"
   ]
  },
  {
   "cell_type": "code",
   "execution_count": 18,
   "metadata": {},
   "outputs": [
    {
     "data": {
      "application/vnd.microsoft.datawrangler.viewer.v0+json": {
       "columns": [
        {
         "name": "index",
         "rawType": "int64",
         "type": "integer"
        },
        {
         "name": "T_years",
         "rawType": "float64",
         "type": "float"
        },
        {
         "name": "kirk_eur_mwh",
         "rawType": "float64",
         "type": "float"
        },
        {
         "name": "value_1GW_over_T_eur",
         "rawType": "float64",
         "type": "float"
        }
       ],
       "ref": "76ae3cc3-0f06-4cdc-b5a2-ce45ef882a46",
       "rows": [
        [
         "0",
         "0.019230769230769232",
         "12.855783727162475",
         "2165705.1048066015"
        ],
        [
         "1",
         "0.08333333333333333",
         "16.000361983639813",
         "11680264.248057064"
        ],
        [
         "2",
         "0.25",
         "21.550496210526305",
         "47195586.701052606"
        ],
        [
         "3",
         "0.5",
         "27.159932200052374",
         "118960503.0362294"
        ]
       ],
       "shape": {
        "columns": 3,
        "rows": 4
       }
      },
      "text/html": [
       "<div>\n",
       "<style scoped>\n",
       "    .dataframe tbody tr th:only-of-type {\n",
       "        vertical-align: middle;\n",
       "    }\n",
       "\n",
       "    .dataframe tbody tr th {\n",
       "        vertical-align: top;\n",
       "    }\n",
       "\n",
       "    .dataframe thead th {\n",
       "        text-align: right;\n",
       "    }\n",
       "</style>\n",
       "<table border=\"1\" class=\"dataframe\">\n",
       "  <thead>\n",
       "    <tr style=\"text-align: right;\">\n",
       "      <th></th>\n",
       "      <th>T_years</th>\n",
       "      <th>kirk_eur_mwh</th>\n",
       "      <th>value_1GW_over_T_eur</th>\n",
       "    </tr>\n",
       "  </thead>\n",
       "  <tbody>\n",
       "    <tr>\n",
       "      <th>0</th>\n",
       "      <td>0.019231</td>\n",
       "      <td>12.855784</td>\n",
       "      <td>2.165705e+06</td>\n",
       "    </tr>\n",
       "    <tr>\n",
       "      <th>1</th>\n",
       "      <td>0.083333</td>\n",
       "      <td>16.000362</td>\n",
       "      <td>1.168026e+07</td>\n",
       "    </tr>\n",
       "    <tr>\n",
       "      <th>2</th>\n",
       "      <td>0.250000</td>\n",
       "      <td>21.550496</td>\n",
       "      <td>4.719559e+07</td>\n",
       "    </tr>\n",
       "    <tr>\n",
       "      <th>3</th>\n",
       "      <td>0.500000</td>\n",
       "      <td>27.159932</td>\n",
       "      <td>1.189605e+08</td>\n",
       "    </tr>\n",
       "  </tbody>\n",
       "</table>\n",
       "</div>"
      ],
      "text/plain": [
       "    T_years  kirk_eur_mwh  value_1GW_over_T_eur\n",
       "0  0.019231     12.855784          2.165705e+06\n",
       "1  0.083333     16.000362          1.168026e+07\n",
       "2  0.250000     21.550496          4.719559e+07\n",
       "3  0.500000     27.159932          1.189605e+08"
      ]
     },
     "metadata": {},
     "output_type": "display_data"
    },
    {
     "data": {
      "image/png": "[encoded data removed]",
      "text/plain": [
       "<Figure size 640x480 with 1 Axes>"
      ]
     },
     "metadata": {},
     "output_type": "display_data"
    }
   ],
   "source": [
    "T_list = [1/52, 1/12, 0.25, 0.5]  # ~1w, 1m, 3m, 6m\n",
    "vals_T = [kirk(S1,S2,sigma1,sigma2,rho,Ti,K) for Ti in T_list]\n",
    "notionals = [scale_to_capacity(v, 1000, Ti) for v, Ti in zip(vals_T, T_list)]\n",
    "exp_df = pd.DataFrame({\n",
    "   \"T_years\": T_list,\n",
    "   \"kirk_eur_mwh\": vals_T,\n",
    "   \"value_1GW_over_T_eur\": notionals\n",
    "})\n",
    "display(exp_df)\n",
    "\n",
    "plt.figure()\n",
    "plt.plot(T_list, vals_T, marker=\"o\")\n",
    "plt.xlabel(\"Expiry T (years)\")\n",
    "plt.ylabel(\"Kirk price (€/MWh)\")\n",
    "plt.title(\"Sensitivity: Value vs Expiry\")\n",
    "plt.grid(True)\n",
    "plt.show()"
   ]
  }
 ],
 "metadata": {
  "kernelspec": {
   "display_name": "Python 3",
   "language": "python",
   "name": "python3"
  },
  "language_info": {
   "codemirror_mode": {
    "name": "ipython",
    "version": 3
   },
   "file_extension": ".py",
   "mimetype": "text/x-python",
   "name": "python",
   "nbconvert_exporter": "python",
   "pygments_lexer": "ipython3",
   "version": "3.12.0"
  }
 },
 "nbformat": 4,
 "nbformat_minor": 2
}
